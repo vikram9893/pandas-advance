{
 "cells": [
  {
   "cell_type": "code",
   "execution_count": null,
   "id": "935bdb80-b12c-40a1-98de-22799c738c04",
   "metadata": {},
   "outputs": [],
   "source": [
    "Ans 1 \n",
    "import pandas as pd\n",
    "\n",
    "# Create a Pandas Series\n",
    "data = [4, 8, 15, 16, 23, 42]\n",
    "series = pd.Series(data)\n",
    "\n",
    "# Print the Series\n",
    "print(series)\n"
   ]
  },
  {
   "cell_type": "code",
   "execution_count": null,
   "id": "a0ecfda4-d707-4933-9fe3-c8610beae3c2",
   "metadata": {},
   "outputs": [],
   "source": [
    "Ans 2 \n",
    "import pandas as pd\n",
    "\n",
    "# Create a Python list with 10 elements\n",
    "my_list = [1, 2, 3, 4, 5, 6, 7, 8, 9, 10]\n",
    "\n",
    "# Convert the list to a Pandas Series\n",
    "series = pd.Series(my_list)\n",
    "\n",
    "# Print the Series\n",
    "print(series)\n"
   ]
  },
  {
   "cell_type": "code",
   "execution_count": null,
   "id": "281d4351-0e29-4747-9232-b306545de955",
   "metadata": {},
   "outputs": [],
   "source": [
    "Ans 3\n",
    "import pandas as pd\n",
    "\n",
    "# Create a Pandas DataFrame\n",
    "data = {'Name': ['Alice', 'Bob', 'Claire'],\n",
    "        'Age': [25, 30, 27],\n",
    "        'Gender': ['Female', 'Male', 'Female']}\n",
    "\n",
    "df = pd.DataFrame(data)\n",
    "\n",
    "# Print the DataFrame\n",
    "print(df)\n"
   ]
  },
  {
   "cell_type": "markdown",
   "id": "1768f1e3-5b2d-4568-8da0-251e1ea18252",
   "metadata": {},
   "source": [
    "Ans 4 \n",
    "A DataFrame in Pandas is a two-dimensional labeled data structure with columns of potentially different data types.\n",
    "It can be thought of as a table or a spreadsheet where data is organized in rows and columns. Each column in a DataFrame is a Pandas Series, and multiple Series are combined to form a DataFrame.\n",
    "\n",
    "import pandas as pd\n",
    "\n",
    "# Create a Pandas Series\n",
    "series = pd.Series([10, 20, 30, 40, 50], name='Numbers')\n",
    "\n",
    "# Create a Pandas DataFrame\n",
    "data = {'Name': ['Alice', 'Bob', 'Claire'],\n",
    "        'Age': [25, 30, 27],\n",
    "        'Gender': ['Female', 'Male', 'Female']}\n",
    "df = pd.DataFrame(data)\n",
    "\n",
    "# Print the Series and DataFrame\n",
    "print(\"Series:\")\n",
    "print(series)\n",
    "print(\"\\nDataFrame:\")\n",
    "print(df)"
   ]
  },
  {
   "cell_type": "code",
   "execution_count": null,
   "id": "0cdf0a59-f92c-4663-9979-f714467eb0f6",
   "metadata": {},
   "outputs": [],
   "source": [
    "Ans 5\n",
    "head() and tail(): These functions allow you to view the first or last few rows of a DataFrame.\n",
    "They are useful for quickly inspecting the data or getting a glimpse of its structure.\n",
    "import pandas as pd\n",
    "\n",
    "# Create a DataFrame\n",
    "df = pd.DataFrame({'A': [1, 2, 3, 4, 5],\n",
    "                   'B': ['a', 'b', 'c', 'd', 'e']})\n",
    "\n",
    "# View the first few rows\n",
    "print(df.head())\n",
    "\n",
    "# View the last few rows\n",
    "print(df.tail())\n",
    "\n",
    "info(): This function provides a summary of the DataFrame's structure, including the column names,\n",
    "data types, and the count of non-null values in each column. It helps in understanding the data types and detecting missing values.\n",
    "\n",
    "sort_values(): This function allows you to sort the DataFrame by one or more columns.\n",
    "It is useful for arranging the data in a desired order, such as ascending or descending.\n",
    "\n"
   ]
  },
  {
   "cell_type": "markdown",
   "id": "df2c7056-5cf2-48b1-8e88-1a2bdd677865",
   "metadata": {},
   "source": [
    "Ans 6 \n",
    "Series: A Series in Pandas is mutable, which means you can modify its values, change the index labels, or add/remove elements from it. You can update individual values or use indexing and assignment to modify specific portions of the Series.\n",
    "\n",
    "DataFrame: Similarly, a DataFrame in Pandas is also mutable. You can modify values, add or remove columns, update rows or columns, and perform various data manipulations on the DataFrame.\n",
    "\n",
    "Panel: However, the Panel data structure, which was available in older versions of Pandas, is now deprecated. It represented a three-dimensional data structure, but it is no longer actively developed or recommended for use. Panels were not mutable in nature."
   ]
  },
  {
   "cell_type": "code",
   "execution_count": null,
   "id": "9ea1e4ac-1667-49f4-9ea0-27d1c8f0d88a",
   "metadata": {},
   "outputs": [],
   "source": [
    "Ans 7 \n",
    "import pandas as pd\n",
    "\n",
    "# Create a Series for each column\n",
    "name_series = pd.Series(['Alice', 'Bob', 'Claire'])\n",
    "age_series = pd.Series([25, 30, 27])\n",
    "gender_series = pd.Series(['Female', 'Male', 'Female'])\n",
    "\n",
    "# Create a dictionary with column names as keys and Series as values\n",
    "data = {'Name': name_series, 'Age': age_series, 'Gender': gender_series}\n",
    "\n",
    "# Create the DataFrame\n",
    "df = pd.DataFrame(data)\n",
    "\n",
    "# Print the DataFrame\n",
    "print(df)\n"
   ]
  }
 ],
 "metadata": {
  "kernelspec": {
   "display_name": "Python 3 (ipykernel)",
   "language": "python",
   "name": "python3"
  },
  "language_info": {
   "codemirror_mode": {
    "name": "ipython",
    "version": 3
   },
   "file_extension": ".py",
   "mimetype": "text/x-python",
   "name": "python",
   "nbconvert_exporter": "python",
   "pygments_lexer": "ipython3",
   "version": "3.10.8"
  }
 },
 "nbformat": 4,
 "nbformat_minor": 5
}
